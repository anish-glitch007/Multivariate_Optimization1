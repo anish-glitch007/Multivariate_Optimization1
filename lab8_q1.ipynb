{
 "cells": [
  {
   "cell_type": "code",
   "execution_count": 27,
   "metadata": {},
   "outputs": [
    {
     "name": "stdout",
     "output_type": "stream",
     "text": [
      "min point is  [ 5.06 12.14]\n"
     ]
    }
   ],
   "source": [
    "import numpy as np\n",
    "\n",
    "alpha = 0.01\n",
    "search_dir = np.array([3,7])\n",
    "starting_point = np.array([2,5])\n",
    "new_point = starting_point\n",
    "\n",
    "def J(w1,w2):\n",
    "    return (w1-10)**2 + (w2-10)**2\n",
    "\n",
    "def grad_J(w1,w2):\n",
    "    return np.array(2*(new_point[0]-10),2*(new_point[1]-10))\n",
    "\n",
    "def line_search(number_iterations):\n",
    "    k=0\n",
    "    alpha = 0.01\n",
    "    search_dir = np.array([3,7])\n",
    "    starting_point = np.array([2,5])\n",
    "    new_point = starting_point\n",
    "\n",
    "    for k in range(number_iterations):\n",
    "            dw = alpha*search_dir\n",
    "            new_point = np.add(starting_point,alpha * search_dir)\n",
    "\n",
    "            # print(new_point)\n",
    "            # print(np.dot(np.array(2*(new_point[0]-10),2*(new_point[1]-10) ),search_dir))\n",
    "\n",
    "            if np.dot(np.array(2*(new_point[0]-10),2*(new_point[1]-10) ),search_dir).all() == 0:\n",
    "                # print(\"in condition 1\")\n",
    "                return (new_point)\n",
    "            elif J(new_point[0]-dw[0], new_point[1]-dw[1]) >= J(new_point[0], new_point[1]) <= J(new_point[0]+dw[0], new_point[1]+dw[1]):\n",
    "                # print(\"in condition 2\")\n",
    "                return (new_point)\n",
    "\n",
    "            \n",
    "            elif k > number_iterations:\n",
    "                # print(\"in condition 3\")\n",
    "                return (new_point)\n",
    "            \n",
    "            else:\n",
    "                starting_point = new_point\n",
    "            k+=1\n",
    "\n",
    "min_point = line_search(100000)                                                 \n",
    "print(\"min point is \", min_point)"
   ]
  }
 ],
 "metadata": {
  "kernelspec": {
   "display_name": "Python 3",
   "language": "python",
   "name": "python3"
  },
  "language_info": {
   "codemirror_mode": {
    "name": "ipython",
    "version": 3
   },
   "file_extension": ".py",
   "mimetype": "text/x-python",
   "name": "python",
   "nbconvert_exporter": "python",
   "pygments_lexer": "ipython3",
   "version": "3.10.5"
  },
  "orig_nbformat": 4
 },
 "nbformat": 4,
 "nbformat_minor": 2
}
